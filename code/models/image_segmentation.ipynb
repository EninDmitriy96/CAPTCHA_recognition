{
 "cells": [
  {
   "metadata": {
    "ExecuteTime": {
     "end_time": "2024-10-06T15:33:53.285158Z",
     "start_time": "2024-10-06T15:33:48.137242Z"
    }
   },
   "cell_type": "code",
   "source": [
    "import cv2\n",
    "import numpy as np\n",
    "import os\n",
    "import torch\n",
    "from torchvision import transforms\n",
    "import torch.nn.functional as F\n",
    "import torch.nn as nn\n",
    "import matplotlib.pyplot as plt\n",
    "from PIL import Image\n",
    "\n",
    "# device = device = torch.device('cuda' if torch.cuda.is_available() else 'cpu')\n",
    "device = 'cpu'\n",
    "emnist_mapping = {\n",
    "    0: '0', 1: '1', 2: '2', 3: '3', 4: '4', 5: '5', 6: '6', 7: '7', 8: '8', 9: '9',\n",
    "    10: 'A', 11: 'B', 12: 'C', 13: 'D', 14: 'E', 15: 'F', 16: 'G', 17: 'H', 18: 'I', 19: 'J',\n",
    "    20: 'K', 21: 'L', 22: 'M', 23: 'N', 24: 'O', 25: 'P', 26: 'Q', 27: 'R', 28: 'S', 29: 'T',\n",
    "    30: 'U', 31: 'V', 32: 'W', 33: 'X', 34: 'Y', 35: 'Z',\n",
    "    36: 'a', 37: 'b', 38: 'c', 39: 'd', 40: 'e', 41: 'f', 42: 'g', 43: 'h', 44: 'i', 45: 'j',\n",
    "    46: 'k', 47: 'l', 48: 'm', 49: 'n', 50: 'o', 51: 'p', 52: 'q', 53: 'r', 54: 's', 55: 't',\n",
    "    56: 'u', 57: 'v', 58: 'w', 59: 'x', 60: 'y', 61: 'z'\n",
    "}"
   ],
   "id": "a627ef9d53f67b8",
   "outputs": [],
   "execution_count": 1
  },
  {
   "metadata": {
    "ExecuteTime": {
     "end_time": "2024-10-06T15:33:53.301522Z",
     "start_time": "2024-10-06T15:33:53.295524Z"
    }
   },
   "cell_type": "code",
   "source": [
    "class CAPTCHAClassifier(nn.Module):\n",
    "    def __init__(self, num_classes=62):\n",
    "        super(CAPTCHAClassifier, self).__init__()\n",
    "        self.conv1 = nn.Conv2d(1, 32, kernel_size=3, stride=1, padding=1)\n",
    "        self.bn1 = nn.BatchNorm2d(32)\n",
    "        self.conv2 = nn.Conv2d(32, 64, kernel_size=3, stride=1, padding=1)\n",
    "        self.bn2 = nn.BatchNorm2d(64)\n",
    "        self.conv3 = nn.Conv2d(64, 128, kernel_size=3, stride=1, padding=1)\n",
    "        self.bn3 = nn.BatchNorm2d(128)\n",
    "        self.fc1 = nn.Linear(128 * 3 * 3, 1024)\n",
    "        self.fc2 = nn.Linear(1024, num_classes)\n",
    "\n",
    "    def forward(self, x):\n",
    "        x = torch.relu(self.bn1(self.conv1(x)))\n",
    "        x = torch.max_pool2d(x, 2, 2)\n",
    "        x = torch.relu(self.bn2(self.conv2(x)))\n",
    "        x = torch.max_pool2d(x, 2, 2)\n",
    "        x = torch.relu(self.bn3(self.conv3(x)))\n",
    "        x = torch.max_pool2d(x, 2, 2)\n",
    "\n",
    "        x = torch.flatten(x, start_dim=1)\n",
    "        x = torch.relu(self.fc1(x))\n",
    "        x = self.fc2(x)\n",
    "        return x"
   ],
   "id": "2d9897f7ed1f3b13",
   "outputs": [],
   "execution_count": 2
  },
  {
   "metadata": {
    "ExecuteTime": {
     "end_time": "2024-10-06T15:33:53.317306Z",
     "start_time": "2024-10-06T15:33:53.311535Z"
    }
   },
   "cell_type": "code",
   "source": [
    "def load_model(model_path='model.pth'):\n",
    "    model = CAPTCHAClassifier()\n",
    "    model.load_state_dict(torch.load(model_path, map_location=torch.device('cpu')))\n",
    "    model.eval()\n",
    "    return model\n",
    "\n",
    "\n",
    "def preprocess_character_image(image):\n",
    "    transform = transforms.Compose([\n",
    "        transforms.Resize((28, 28)),\n",
    "        transforms.Grayscale(num_output_channels=1),\n",
    "        transforms.ToTensor(),\n",
    "        transforms.Normalize((0.5,), (0.5,))\n",
    "    ])\n",
    "    image = Image.fromarray(image)\n",
    "    image = transform(image).unsqueeze(0)\n",
    "    return image"
   ],
   "id": "600c082801eafc3f",
   "outputs": [],
   "execution_count": 3
  },
  {
   "metadata": {
    "ExecuteTime": {
     "end_time": "2024-10-06T15:33:53.334537Z",
     "start_time": "2024-10-06T15:33:53.324318Z"
    }
   },
   "cell_type": "code",
   "source": [
    "def load_captcha_image(image_path):\n",
    "    image = cv2.imread(image_path)\n",
    "    return image\n",
    "\n",
    "\n",
    "def preprocess_image(image):\n",
    "    gray = cv2.cvtColor(image, cv2.COLOR_BGR2GRAY)\n",
    "    smooth_image = cv2.medianBlur(gray, 5)\n",
    "    thresh = cv2.adaptiveThreshold(smooth_image, 255, cv2.ADAPTIVE_THRESH_GAUSSIAN_C,\n",
    "                                   cv2.THRESH_BINARY_INV, 11, 2)\n",
    "    kernel = np.ones((4, 4), np.uint8)\n",
    "\n",
    "    thresh = cv2.erode(thresh, None, iterations=2)\n",
    "    thresh = cv2.dilate(thresh, kernel, iterations=1)\n",
    "\n",
    "    return thresh\n",
    "\n",
    "\n",
    "def merge_contours(contours, min_distance=12):\n",
    "    bounding_boxes = [cv2.boundingRect(c) for c in contours]\n",
    "    merged_boxes = []\n",
    "\n",
    "    for box in bounding_boxes:\n",
    "        x, y, w, h = box\n",
    "        merged = False\n",
    "        for i, (mx, my, mw, mh) in enumerate(merged_boxes):\n",
    "            if abs(x - mx) < min_distance or abs((x + w) - (mx + mw)) < min_distance:\n",
    "                merged_boxes[i] = (\n",
    "                    min(x, mx), min(y, my), max(x + w, mx + mw) - min(x, mx), max(y + h, my + mh) - min(y, my))\n",
    "                merged = True\n",
    "                break\n",
    "        if not merged:\n",
    "            merged_boxes.append((x, y, w, h))\n",
    "    merged_contours = [np.array([[x, y], [x + w, y], [x + w, y + h], [x, y + h]], dtype=np.int32) for (x, y, w, h) in\n",
    "                       merged_boxes]\n",
    "\n",
    "    return merged_contours\n",
    "\n",
    "\n",
    "def split_wide_contours(contour, image, width_threshold=40):\n",
    "    x, y, w, h = cv2.boundingRect(contour)\n",
    "    if w > width_threshold:\n",
    "        num_splits = int(np.ceil(w / width_threshold))\n",
    "        segment_width = w // num_splits\n",
    "\n",
    "        sub_contours = []\n",
    "        for i in range(num_splits):\n",
    "            sub_x = x + i * segment_width\n",
    "            sub_w = segment_width if i < num_splits - 1 else w - (num_splits - 1) * segment_width\n",
    "            sub_contour = np.array([[sub_x, y], [sub_x + sub_w, y], [sub_x + sub_w, y + h], [sub_x, y + h]],\n",
    "                                   dtype=np.int32)\n",
    "            sub_contours.append(sub_contour)\n",
    "        return sub_contours\n",
    "    else:\n",
    "        return [contour]\n",
    "\n",
    "\n",
    "def find_character_contours(thresh_image, width_threshold=40, expand_by=10):\n",
    "    contours, _ = cv2.findContours(thresh_image, cv2.RETR_EXTERNAL, cv2.CHAIN_APPROX_SIMPLE)\n",
    "\n",
    "    character_contours = []\n",
    "    for contour in contours:\n",
    "        x, y, w, h = cv2.boundingRect(contour)\n",
    "        if 5 < w and 5 < h:\n",
    "            y = max(0, y - expand_by)\n",
    "            h = h + 2 * expand_by\n",
    "\n",
    "            split_contours = split_wide_contours(contour, thresh_image, width_threshold)\n",
    "            for sc in split_contours:\n",
    "                x_sc, y_sc, w_sc, h_sc = cv2.boundingRect(sc)\n",
    "                expanded_contour = np.array([[x_sc, y], [x_sc + w_sc, y], [x_sc + w_sc, y + h], [x_sc, y + h]],\n",
    "                                            dtype=np.int32)\n",
    "                character_contours.append(expanded_contour)\n",
    "\n",
    "    character_contours = sorted(character_contours, key=lambda ctr: cv2.boundingRect(ctr)[0])\n",
    "    merged_contours = merge_contours(character_contours)\n",
    "\n",
    "    return merged_contours\n"
   ],
   "id": "76189ebbc5ac5d85",
   "outputs": [],
   "execution_count": 4
  },
  {
   "metadata": {
    "ExecuteTime": {
     "end_time": "2024-10-06T15:33:53.775638Z",
     "start_time": "2024-10-06T15:33:53.770168Z"
    }
   },
   "cell_type": "code",
   "source": [
    "\n",
    "def predict_character(model, image_tensor):\n",
    "    with torch.no_grad():\n",
    "        output = model(image_tensor)\n",
    "        _, predicted = torch.max(output, 1)\n",
    "    return emnist_mapping[predicted.item()]\n",
    "\n",
    "\n",
    "def decrypt_captcha(image, contours, model):\n",
    "    captcha_text = \"\"\n",
    "    for contour in contours:\n",
    "        x, y, w, h = cv2.boundingRect(contour)\n",
    "        char_image = image[y:y + h, x:x + w]\n",
    "        gray = cv2.cvtColor(char_image, cv2.COLOR_BGR2GRAY)\n",
    "        smooth_image = cv2.medianBlur(gray, 5)\n",
    "        thresh = cv2.adaptiveThreshold(smooth_image, 255, cv2.ADAPTIVE_THRESH_GAUSSIAN_C,\n",
    "                                       cv2.THRESH_BINARY_INV, 11, 2)\n",
    "        char_image = preprocess_character_image(thresh)\n",
    "        predicted_char = predict_character(model, char_image)\n",
    "        captcha_text += predicted_char\n",
    "    return captcha_text\n"
   ],
   "id": "ad0f5b4177cf0fda",
   "outputs": [],
   "execution_count": 5
  },
  {
   "metadata": {
    "ExecuteTime": {
     "end_time": "2024-10-06T15:33:53.791078Z",
     "start_time": "2024-10-06T15:33:53.784089Z"
    }
   },
   "cell_type": "code",
   "source": [
    "def visualize_segmentation(image, contours, preprocessed_image):\n",
    "    scaled_image = cv2.resize(image, (400, 100))\n",
    "    image_with_boxes = scaled_image.copy()\n",
    "\n",
    "    for contour in contours:\n",
    "        x, y, w, h = cv2.boundingRect(contour)\n",
    "        scale_x = scaled_image.shape[1] / image.shape[1]\n",
    "        scale_y = scaled_image.shape[0] / image.shape[0]\n",
    "        cv2.rectangle(image_with_boxes,\n",
    "                      (int(x * scale_x), int(y * scale_y)),\n",
    "                      (int((x + w) * scale_x), int((y + h) * scale_y)),\n",
    "                      (0, 255, 0), 2)\n",
    "\n",
    "    rgb_image_with_boxes = cv2.cvtColor(image_with_boxes, cv2.COLOR_BGR2RGB)\n",
    "    plt.figure(figsize=(10, 5))\n",
    "    plt.subplot(1, 2, 1)\n",
    "    plt.imshow(rgb_image_with_boxes)\n",
    "    plt.axis('off')\n",
    "    plt.title('Original Image with Contours')\n",
    "\n",
    "\n",
    "def visualize_extracted_characters(image, contours, target_size=(28, 28)):\n",
    "    plt.figure(figsize=(4, 1))\n",
    "    for i, contour in enumerate(contours):\n",
    "        x, y, w, h = cv2.boundingRect(contour)\n",
    "        char_image = image[y:y + h, x:x + w]\n",
    "\n",
    "        char_image_resized = cv2.resize(char_image, target_size)\n",
    "        gray = cv2.cvtColor(char_image_resized, cv2.COLOR_BGR2GRAY)\n",
    "        smooth_image = cv2.medianBlur(gray, 5)\n",
    "        thresh = cv2.adaptiveThreshold(smooth_image, 255, cv2.ADAPTIVE_THRESH_GAUSSIAN_C,\n",
    "                                       cv2.THRESH_BINARY_INV, 11, 2)\n",
    "        plt.subplot(1, len(contours), i + 1)\n",
    "        plt.imshow(thresh, cmap='gray')\n",
    "        plt.axis('off')\n",
    "\n",
    "    plt.tight_layout()\n",
    "    plt.show()"
   ],
   "id": "ba4bd851f866d124",
   "outputs": [],
   "execution_count": 6
  },
  {
   "metadata": {
    "ExecuteTime": {
     "end_time": "2024-10-06T15:34:49.034600Z",
     "start_time": "2024-10-06T15:34:48.647713Z"
    }
   },
   "cell_type": "code",
   "source": [
    "def process_captcha(image_path, model):\n",
    "    image = load_captcha_image(image_path)\n",
    "    thresh_image = preprocess_image(image)\n",
    "    contours = find_character_contours(thresh_image)\n",
    "\n",
    "    visualize_segmentation(image, contours, thresh_image)\n",
    "    visualize_extracted_characters(image, contours)\n",
    "\n",
    "    decrypted_captcha = decrypt_captcha(image, contours, model)\n",
    "    image_name = os.path.splitext(os.path.basename(image_path))[0]\n",
    "    print(f\"Predicted CAPTCHA: {decrypted_captcha} | Actual CAPTCHA: {image_name}\")\n",
    "\n",
    "\n",
    "model = load_model('model.pth')\n",
    "\n",
    "input_dir = '../../data/captchas_dataset_1/Large_Captcha_Dataset'\n",
    "image_files = os.listdir(input_dir)[1818:1820]\n",
    "\n",
    "for image_file in image_files:\n",
    "    image_path = os.path.join(input_dir, image_file)\n",
    "    process_captcha(image_path, model)\n"
   ],
   "id": "b83ca344b54c7fa2",
   "outputs": [
    {
     "name": "stderr",
     "output_type": "stream",
     "text": [
      "C:\\Users\\mitya\\AppData\\Local\\Temp\\ipykernel_8924\\307774687.py:3: FutureWarning: You are using `torch.load` with `weights_only=False` (the current default value), which uses the default pickle module implicitly. It is possible to construct malicious pickle data which will execute arbitrary code during unpickling (See https://github.com/pytorch/pytorch/blob/main/SECURITY.md#untrusted-models for more details). In a future release, the default value for `weights_only` will be flipped to `True`. This limits the functions that could be executed during unpickling. Arbitrary objects will no longer be allowed to be loaded via this mode unless they are explicitly allowlisted by the user via `torch.serialization.add_safe_globals`. We recommend you start setting `weights_only=True` for any use case where you don't have full control of the loaded file. Please open an issue on GitHub for any issues related to this experimental feature.\n",
      "  model.load_state_dict(torch.load(model_path, map_location=torch.device('cpu')))\n"
     ]
    },
    {
     "data": {
      "text/plain": [
       "<Figure size 1000x500 with 1 Axes>"
      ],
      "image/png": "[encoded data removed]"
     },
     "metadata": {},
     "output_type": "display_data"
    },
    {
     "data": {
      "text/plain": [
       "<Figure size 400x100 with 5 Axes>"
      ],
      "image/png": "[encoded data removed]"
     },
     "metadata": {},
     "output_type": "display_data"
    },
    {
     "name": "stdout",
     "output_type": "stream",
     "text": [
      "Predicted CAPTCHA: 0N06W | Actual CAPTCHA: 08e13\n"
     ]
    },
    {
     "data": {
      "text/plain": [
       "<Figure size 1000x500 with 1 Axes>"
      ],
      "image/png": "[encoded data removed]"
     },
     "metadata": {},
     "output_type": "display_data"
    },
    {
     "data": {
      "text/plain": [
       "<Figure size 400x100 with 5 Axes>"
      ],
      "image/png": "[encoded data removed]"
     },
     "metadata": {},
     "output_type": "display_data"
    },
    {
     "name": "stdout",
     "output_type": "stream",
     "text": [
      "Predicted CAPTCHA: 0QQN0 | Actual CAPTCHA: 08e5p\n"
     ]
    }
   ],
   "execution_count": 8
  }
 ],
 "metadata": {
  "kernelspec": {
   "display_name": "Python 3",
   "language": "python",
   "name": "python3"
  },
  "language_info": {
   "codemirror_mode": {
    "name": "ipython",
    "version": 2
   },
   "file_extension": ".py",
   "mimetype": "text/x-python",
   "name": "python",
   "nbconvert_exporter": "python",
   "pygments_lexer": "ipython2",
   "version": "2.7.6"
  }
 },
 "nbformat": 4,
 "nbformat_minor": 5
}
